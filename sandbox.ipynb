{
 "cells": [
  {
   "cell_type": "code",
   "execution_count": 1,
   "id": "9e12eebd",
   "metadata": {},
   "outputs": [],
   "source": [
    "import torch\n",
    "import hyperbolic.functional as hf\n",
    "import hyperbolic.plot as hplot"
   ]
  },
  {
   "cell_type": "code",
   "execution_count": 5,
   "id": "f6a104c4",
   "metadata": {},
   "outputs": [
    {
     "data": {
      "image/png": "[encoded data removed]",
      "text/plain": [
       "<Figure size 1008x360 with 1 Axes>"
      ]
     },
     "metadata": {
      "needs_background": "light"
     },
     "output_type": "display_data"
    }
   ],
   "source": [
    "k=-1\n",
    "fig, ax = hplot.poincare_figure(k=k)\n",
    "\n",
    "line = hplot.PoincareSegment(torch.tensor([0,0.99]), torch.tensor([0.5,-0.2]), k)\n",
    "line.draw(ax, n=400)"
   ]
  },
  {
   "cell_type": "code",
   "execution_count": 5,
   "id": "caf7f92d",
   "metadata": {},
   "outputs": [],
   "source": [
    "a = torch.normal(0,1,(2,3))"
   ]
  },
  {
   "cell_type": "code",
   "execution_count": 8,
   "id": "803402e6",
   "metadata": {},
   "outputs": [
    {
     "name": "stdout",
     "output_type": "stream",
     "text": [
      "torch.Size([11, 2])\n"
     ]
    },
    {
     "data": {
      "text/plain": [
       "tensor([[ 0.0000,  0.9900],\n",
       "        [ 0.0500,  0.8697],\n",
       "        [ 0.1000,  0.7498],\n",
       "        [ 0.1498,  0.6301],\n",
       "        [ 0.1995,  0.5106],\n",
       "        [ 0.2490,  0.3915],\n",
       "        [ 0.2985,  0.2727],\n",
       "        [ 0.3478,  0.1541],\n",
       "        [ 0.3970,  0.0358],\n",
       "        [ 0.4462, -0.0823],\n",
       "        [ 0.4951, -0.2000]])"
      ]
     },
     "execution_count": 8,
     "metadata": {},
     "output_type": "execute_result"
    }
   ],
   "source": [
    "line.points(10)"
   ]
  },
  {
   "cell_type": "code",
   "execution_count": 6,
   "id": "d1d4c549",
   "metadata": {},
   "outputs": [
    {
     "data": {
      "text/plain": [
       "tensor([ 0.6234, -1.4838])"
      ]
     },
     "execution_count": 6,
     "metadata": {},
     "output_type": "execute_result"
    }
   ],
   "source": [
    "hf.mobius_transform(torch.tensor([0,0.99]), torch.tensor([0.5,-0.2]), k=-1)"
   ]
  }
 ],
 "metadata": {
  "kernelspec": {
   "display_name": "Python 3",
   "language": "python",
   "name": "python3"
  },
  "language_info": {
   "codemirror_mode": {
    "name": "ipython",
    "version": 3
   },
   "file_extension": ".py",
   "mimetype": "text/x-python",
   "name": "python",
   "nbconvert_exporter": "python",
   "pygments_lexer": "ipython3",
   "version": "3.8.8"
  }
 },
 "nbformat": 4,
 "nbformat_minor": 5
}
